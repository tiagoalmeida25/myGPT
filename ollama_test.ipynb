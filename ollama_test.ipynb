{
 "cells": [
  {
   "cell_type": "code",
   "execution_count": 1,
   "metadata": {},
   "outputs": [],
   "source": [
    "import ollama"
   ]
  },
  {
   "cell_type": "code",
   "execution_count": 2,
   "metadata": {},
   "outputs": [
    {
     "data": {
      "text/plain": [
       "{'status': 'success'}"
      ]
     },
     "execution_count": 2,
     "metadata": {},
     "output_type": "execute_result"
    }
   ],
   "source": [
    "modelfile = \"\"\"\n",
    "FROM mistral\n",
    "SYSTEM You are a book recommendation system for Bookshelf, an app that allows users to track their readings, by adding books into different shelves (reading, to read, wishlist, finished, abandoned, favorite). You have access them. You recommend books to users based on their shelves. You can also answer to questions about books, authors, genres, etc.\n",
    "\"\"\"\n",
    "\n",
    "ollama.create(model=\"bookshelf_assistant\", modelfile=modelfile)"
   ]
  },
  {
   "cell_type": "code",
   "execution_count": 34,
   "metadata": {},
   "outputs": [
    {
     "name": "stdout",
     "output_type": "stream",
     "text": [
      "User message: What are some books that I should add to my shelves? \n",
      "\n",
      " Based on your current reading preferences and the genres you have shown interest in (mainly classic literature and business or self-improvement), here are some suggestions for books that you might enjoy:\n",
      "\n",
      "For Classic Literature:\n",
      "1. Pride and Prejudice by Jane Austen\n",
      "2. Wuthering Heights by Emily Bronte\n",
      "3. To Kill a Mockingbird by Harper Lee\n",
      "4. Jane Eyre by Charlotte Bronte\n",
      "5. The Great Gatsby by F. Scott Fitzgerald\n",
      "6. Moby Dick by Herman Melville\n",
      "7. Frankenstein by Mary Shelley\n",
      "8. Alice's Adventures in Wonderland by Lewis Carroll\n",
      "9. Treasure Island by Robert Louis Stevenson\n",
      "10. The Three Musketeers by Alexandre Dumas\n",
      "\n",
      "For Business and Self-Improvement:\n",
      "1. Good to Great by Jim Collins\n",
      "2. Zero to One by Peter Thiel\n",
      "3. Lean In by Sheryl Sandberg\n",
      "4. The 7 Habits of Highly Effective People by Stephen Covey\n",
      "5. Think and Grow Rich by Napoleon Hill\n",
      "6. Rich Dad Poor Dad by Robert Kiyosaki\n",
      "7. The Art of War by Sun Tzu\n",
      "8. Mindset: The New Psychology of Success by Carol Dweck\n",
      "9. Outliers: The Story of Success by Malcolm Gladwell\n",
      "10. The Lean Startup by Eric Ries\n",
      "\n",
      "I hope you find these suggestions helpful and enjoyable! Let me know if you have any other preferences or genres that I might be able to suggest books for.\n"
     ]
    }
   ],
   "source": [
    "your_message = \"What are some books that I should add to my shelves?\"\n",
    "\n",
    "print(\"User message:\", your_message, \"\\n\")\n",
    "\n",
    "user_books = \"\"\"\n",
    "User shelves:\n",
    "Finished - \" Animal Farm, by George Orwell\", \"A Study in Scarlet, by Arthur Conan Doyle\", \"Contas Poupança, by Pedro Andersson\", \"The Sign of Four, by Arthur Conan Doyle \";\n",
    "Reading - \" How to Build a Billion Dollar App, by George Berkowski\", \"The Penguin English Library Adventures of the Engineer's Thumb and Other Cases, by Sir Arthur Conan Doyle\", \"Penguin English Library Gulliver's Travels, by Jonathan Swift \";\n",
    "To Read - \" Adventure of the Six Napoleons and other cases, by Arthur Conan Doyle\", \"Genius Makers, by Cade Metz\", \"The Culture Map, by Erin Meyer\", \"The Five Orange Pips and other cases, by Arthur Conan Doyle\", \"The Hound of the Baskervilles, by Arthur Conan Doyle\", \"The Valley of Fear, by Arthur Conan Doyle\", \"The Adventure of the Blue Carbuncle, by Arthur Conan Doyle \";\n",
    "Abandoned - \" A Psicologia das Massas, by Gustave Le Bon \";\n",
    "\"\"\"\n",
    "# Finished - \" INSPIRED, by Marty Cagan\", \"Invista Em Si, by Natalia De Santiago\", \"Carrie Soto Is Back, by Taylor Jenkins Reid\", \"8 Rules of Love, by Jay Shetty\", \"Best Story Wins, by Matthew Luhn\", \"Check & Mate, by Ali Hazelwood\", \"Deep Work, by Cal Newport\", \"Factfulness, by Hans Rosling\", \"Twisted Love, by Ana Huang\", \"Malibu Rising, by Taylor Jenkins Reid\", \"No Rules Rules, by Reed Hastings\", \"The Hawthorne Legacy, by Jennifer Lynn Barnes\", \"Hello Stranger, by Katherine Center\", \"Why Has Nobody Told Me This Before, by Julie Smith\", \"The Housemaid: An Absolutely Addictive Psychological Thriller with a Jaw-dropping Twist, by Freida McFadden\", \"Hooked, by Nir Eyal\", \"A psicologia financeira, by Morgan Housel\", \"The Seven Year Slip, by Ashley Poston\", \"The Final Gambit, by Jennifer Lynn Barnes\", \"Buyology, by Martin Lindstrom\", \"Tomorrow, and Tomorrow, and Tomorrow, by Gabrielle Zevin\", \"Remarkably Bright Creatures, by Shelby Van Pelt\", \"Icebreaker, by Hannah Grace\", \"It Ends with Us, by Colleen Hoover\", \"Book Lovers, by Emily Henry\", \"It Starts with Us, by Colleen Hoover ;\n",
    "# Reading - \" O Acelerador De Carreiras, by Mafalda Rebordão e Sara Aguiar\", \"Five Survive, by Holly Jackson\", \"The Great Economists, by Linda Yueh ;\n",
    "# To Read - \" A marca da vitória, by Phil Knight\", \"Atlas Paradox, by Olivie Blake\", \"The Art of War, by Sun Tzu\", \"Nudge, by Richard H. Thaler\", \"The Culture Map, by Erin Meyer\", \"The Lean Startup, by Eric Ries ;\n",
    "# Wishlist - \" The Communication Book: 44 Ideas for Better Conversations Every Day, by Mikael Krogerus\", \"None of This Is True, by Lisa Jewell\", \"The Innovator's Dilemma, by Clayton Christensen\", \"Zero to One, by Peter Thiel\", \"The Housemaid's Secret, by Freida McFadden\", \"The Ride of a Lifetime, by Robert Iger\", \"Think Again, by Adam Grant\", \"The E-Myth Revisited, by Michael E. Gerber\", \"Emily Wilde's Encyclopaedia of Faeries, by Heather Fawcett\", \"Yellowface -LP, by R F Kuang\", \"101 Essays That Will Change the Way You Think, by Brianna Wiest\", \"The Great CEO Within: The Tactical Guide to Company Building, by Matt Mochary\", \"The Mom Test, by Rob Fitzpatrick\", \"Outliers, by Malcolm Gladwell\", \"The Wishing Game, by Meg Shaffer\", \"Red Rising, by Pierce Brown\", \"The Score Takes Care of Itself, by Bill Walsh\", \"Real Estate Investing Gone Bad, by Phil Pustejovsky ;\n",
    "# Abandoned - \" The Davenports, by Krystal Marquis\";\n",
    "\n",
    "response = ollama.chat(\n",
    "    model=\"bookshelf_assistant\",\n",
    "    messages=[\n",
    "        {\n",
    "            \"role\": \"system\",\n",
    "            \"content\": user_books,\n",
    "        },\n",
    "        {\n",
    "            \"role\": \"user\",\n",
    "            \"content\": your_message,\n",
    "        },\n",
    "    ],\n",
    ")\n",
    "\n",
    "print(response[\"message\"][\"content\"])"
   ]
  },
  {
   "cell_type": "code",
   "execution_count": 4,
   "metadata": {},
   "outputs": [],
   "source": [
    "import firebase_admin\n",
    "from firebase_admin import credentials, firestore\n",
    "\n",
    "cred = credentials.Certificate(\"bookshelf-a829b-firebase-adminsdk-yzbj3-5c60469c2c.json\")\n",
    "\n",
    "firebase_admin.initialize_app(cred)\n",
    "\n",
    "db = firestore.client()"
   ]
  },
  {
   "cell_type": "code",
   "execution_count": 29,
   "metadata": {},
   "outputs": [
    {
     "name": "stdout",
     "output_type": "stream",
     "text": [
      "Finished - \" Animal Farm, by George Orwell\", \"A Study in Scarlet, by Arthur Conan Doyle\", \"Contas Poupança, by Pedro Andersson\", \"The Sign of Four, by Arthur Conan Doyle \";\n",
      "Reading - \" How to Build a Billion Dollar App, by George Berkowski\", \"The Penguin English Library Adventures of the Engineer's Thumb and Other Cases, by Sir Arthur Conan Doyle\", \"Penguin English Library Gulliver's Travels, by Jonathan Swift \";\n",
      "To Read - \" Adventure of the Six Napoleons and other cases, by Arthur Conan Doyle\", \"Genius Makers, by Cade Metz\", \"The Culture Map, by Erin Meyer\", \"The Five Orange Pips and other cases, by Arthur Conan Doyle\", \"The Hound of the Baskervilles, by Arthur Conan Doyle\", \"The Valley of Fear, by Arthur Conan Doyle\", \"The Adventure of the Blue Carbuncle, by Arthur Conan Doyle \";\n",
      "Wishlist - \"  \";\n",
      "Abandoned - \" A Psicologia das Massas, by Gustave Le Bon \";\n",
      "Favorite - \"  \";\n"
     ]
    }
   ],
   "source": [
    "# tiago:\n",
    "# lDkKty7X1IMKe1ACAr1yLjGZtMe2\n",
    "\n",
    "# margarida:\n",
    "# xUHUL67FuZWRgHMcZXUsozslNQh2\n",
    "snap = db.collection(\"user\").document(\"lDkKty7X1IMKe1ACAr1yLjGZtMe2\").collection(\"books\").get()\n",
    "finished = []\n",
    "reading = []\n",
    "to_read = []\n",
    "wishlist = []\n",
    "abandoned = []\n",
    "favorite = []\n",
    "\n",
    "for data in snap:\n",
    "    book = data.to_dict()\n",
    "    \n",
    "    if book['status'] == 'Finished':\n",
    "        finished.append(f\"{book['title']}, by {book['author']}\")\n",
    "    elif book['status'] == 'Reading':\n",
    "        reading.append(f\"{book['title']}, by {book['author']}\")\n",
    "    elif book['status'] == 'To Read':\n",
    "        to_read.append(f\"{book['title']}, by {book['author']}\")\n",
    "    elif book['status'] == 'Wishlist':\n",
    "        wishlist.append(f\"{book['title']}, by {book['author']}\")\n",
    "    elif book['status'] == 'Abandoned':\n",
    "        abandoned.append(f\"{book['title']}, by {book['author']}\")\n",
    "    elif book['favorite']:\n",
    "        favorite.append(f\"{book['title']}, by {book['author']}\")\n",
    "\n",
    "finished = '\", \"'.join(finished)\n",
    "reading = '\", \"'.join(reading)\n",
    "to_read = '\", \"'.join(to_read)\n",
    "wishlist = '\", \"'.join(wishlist)\n",
    "abandoned = '\", \"'.join(abandoned)\n",
    "favorite = '\", \"'.join(favorite)\n",
    "\n",
    "print('Finished - \"', finished, '\";')\n",
    "print('Reading - \"', reading, '\";')\n",
    "print('To Read - \"', to_read, '\";')\n",
    "print('Wishlist - \"', wishlist, '\";')\n",
    "print('Abandoned - \"', abandoned, '\";')\n",
    "print('Favorite - \"', favorite, '\";')"
   ]
  }
 ],
 "metadata": {
  "kernelspec": {
   "display_name": "Python 3",
   "language": "python",
   "name": "python3"
  },
  "language_info": {
   "codemirror_mode": {
    "name": "ipython",
    "version": 3
   },
   "file_extension": ".py",
   "mimetype": "text/x-python",
   "name": "python",
   "nbconvert_exporter": "python",
   "pygments_lexer": "ipython3",
   "version": "3.10.11"
  }
 },
 "nbformat": 4,
 "nbformat_minor": 2
}
